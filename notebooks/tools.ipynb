{
 "cells": [
  {
   "cell_type": "markdown",
   "metadata": {},
   "source": [
    "## Langchain Tools"
   ]
  },
  {
   "cell_type": "markdown",
   "metadata": {},
   "source": [
    "### Tool : Wikipedia"
   ]
  },
  {
   "cell_type": "code",
   "execution_count": 10,
   "metadata": {},
   "outputs": [],
   "source": [
    "from langchain_community.tools import WikipediaQueryRun"
   ]
  },
  {
   "cell_type": "code",
   "execution_count": 11,
   "metadata": {},
   "outputs": [],
   "source": [
    "from langchain_community.utilities import WikipediaAPIWrapper"
   ]
  },
  {
   "cell_type": "code",
   "execution_count": 12,
   "metadata": {},
   "outputs": [],
   "source": [
    "api_wrapper=WikipediaAPIWrapper(top_k_results=5,doc_content_chars_max= 500)"
   ]
  },
  {
   "cell_type": "code",
   "execution_count": 13,
   "metadata": {},
   "outputs": [],
   "source": [
    "wiki_tool=WikipediaQueryRun(api_wrapper=api_wrapper)"
   ]
  },
  {
   "cell_type": "code",
   "execution_count": 14,
   "metadata": {},
   "outputs": [
    {
     "data": {
      "text/plain": [
       "'wikipedia'"
      ]
     },
     "execution_count": 14,
     "metadata": {},
     "output_type": "execute_result"
    }
   ],
   "source": [
    "wiki_tool.name"
   ]
  },
  {
   "cell_type": "code",
   "execution_count": 15,
   "metadata": {},
   "outputs": [
    {
     "data": {
      "text/plain": [
       "'A wrapper around Wikipedia. Useful for when you need to answer general questions about people, places, companies, facts, historical events, or other subjects. Input should be a search query.'"
      ]
     },
     "execution_count": 15,
     "metadata": {},
     "output_type": "execute_result"
    }
   ],
   "source": [
    "wiki_tool.description"
   ]
  },
  {
   "cell_type": "code",
   "execution_count": 17,
   "metadata": {},
   "outputs": [
    {
     "data": {
      "text/plain": [
       "{'query': {'description': 'query to look up on wikipedia',\n",
       "  'title': 'Query',\n",
       "  'type': 'string'}}"
      ]
     },
     "execution_count": 17,
     "metadata": {},
     "output_type": "execute_result"
    }
   ],
   "source": [
    "wiki_tool.args"
   ]
  },
  {
   "cell_type": "code",
   "execution_count": 18,
   "metadata": {},
   "outputs": [
    {
     "data": {
      "text/plain": [
       "'Page: Mount Rainier\\nSummary: Mount Rainier ( ray-NEER), also known as Tahoma, is a large active stratovolcano in the Cascade Range of the Pacific Northwest in the United States. The mountain is located in Mount Rainier National Park about 59 miles (95 km) south-southeast of Seattle. With an officially recognized summit elevation of 14,410 ft (4,392 m) at the Columbia Crest, it is the highest mountain in the U.S. state of Washington, the most topographically prominent mountain in the contiguous U'"
      ]
     },
     "execution_count": 18,
     "metadata": {},
     "output_type": "execute_result"
    }
   ],
   "source": [
    "wiki_tool.run(\"Mount Rainer\")"
   ]
  },
  {
   "cell_type": "markdown",
   "metadata": {},
   "source": [
    "### Tool : Youtube"
   ]
  },
  {
   "cell_type": "code",
   "execution_count": 19,
   "metadata": {},
   "outputs": [],
   "source": [
    "from langchain_community.tools import YouTubeSearchTool"
   ]
  },
  {
   "cell_type": "code",
   "execution_count": 20,
   "metadata": {},
   "outputs": [],
   "source": [
    "youtube_tool=YouTubeSearchTool()"
   ]
  },
  {
   "cell_type": "code",
   "execution_count": 21,
   "metadata": {},
   "outputs": [
    {
     "data": {
      "text/plain": [
       "'youtube_search'"
      ]
     },
     "execution_count": 21,
     "metadata": {},
     "output_type": "execute_result"
    }
   ],
   "source": [
    "youtube_tool.name"
   ]
  },
  {
   "cell_type": "code",
   "execution_count": 22,
   "metadata": {},
   "outputs": [
    {
     "data": {
      "text/plain": [
       "'search for youtube videos associated with a person. the input to this tool should be a comma separated list, the first part contains a person name and the second a number that is the maximum number of video results to return aka num_results. the second part is optional'"
      ]
     },
     "execution_count": 22,
     "metadata": {},
     "output_type": "execute_result"
    }
   ],
   "source": [
    "youtube_tool.description"
   ]
  },
  {
   "cell_type": "code",
   "execution_count": 23,
   "metadata": {},
   "outputs": [
    {
     "data": {
      "text/plain": [
       "\"['https://www.youtube.com/watch?v=Mus4XO8hJpg&pp=ygUMTW91bnQgUmFpbmVy', 'https://www.youtube.com/watch?v=0lhV8wTzLAE&pp=ygUMTW91bnQgUmFpbmVy']\""
      ]
     },
     "execution_count": 23,
     "metadata": {},
     "output_type": "execute_result"
    }
   ],
   "source": [
    "youtube_tool.invoke(\"Mount Rainer\")"
   ]
  },
  {
   "cell_type": "markdown",
   "metadata": {},
   "source": [
    "### Tool : Tavily"
   ]
  },
  {
   "cell_type": "code",
   "execution_count": 24,
   "metadata": {},
   "outputs": [],
   "source": [
    "from langchain_community.tools.tavily_search import TavilySearchResults"
   ]
  },
  {
   "cell_type": "code",
   "execution_count": 25,
   "metadata": {},
   "outputs": [],
   "source": [
    "import os\n",
    "TAVILY_API_KEY=os.getenv(\"TAVILY_API_KEY\")"
   ]
  },
  {
   "cell_type": "code",
   "execution_count": 26,
   "metadata": {},
   "outputs": [
    {
     "name": "stderr",
     "output_type": "stream",
     "text": [
      "/tmp/ipykernel_35205/175783097.py:1: LangChainDeprecationWarning: The class `TavilySearchResults` was deprecated in LangChain 0.3.25 and will be removed in 1.0. An updated version of the class exists in the :class:`~langchain-tavily package and should be used instead. To use it run `pip install -U :class:`~langchain-tavily` and import as `from :class:`~langchain_tavily import TavilySearch``.\n",
      "  tavily_tool=TavilySearchResults(tavily_api_key=TAVILY_API_KEY)\n"
     ]
    }
   ],
   "source": [
    "tavily_tool=TavilySearchResults(tavily_api_key=TAVILY_API_KEY)"
   ]
  },
  {
   "cell_type": "code",
   "execution_count": 27,
   "metadata": {},
   "outputs": [
    {
     "data": {
      "text/plain": [
       "'tavily_search_results_json'"
      ]
     },
     "execution_count": 27,
     "metadata": {},
     "output_type": "execute_result"
    }
   ],
   "source": [
    "tavily_tool.name\n"
   ]
  },
  {
   "cell_type": "code",
   "execution_count": 28,
   "metadata": {},
   "outputs": [
    {
     "data": {
      "text/plain": [
       "'A search engine optimized for comprehensive, accurate, and trusted results. Useful for when you need to answer questions about current events. Input should be a search query.'"
      ]
     },
     "execution_count": 28,
     "metadata": {},
     "output_type": "execute_result"
    }
   ],
   "source": [
    "tavily_tool.description"
   ]
  },
  {
   "cell_type": "code",
   "execution_count": 29,
   "metadata": {},
   "outputs": [
    {
     "data": {
      "text/plain": [
       "[{'title': 'Mount Rainier - Wikipedia',\n",
       "  'url': 'https://en.wikipedia.org/wiki/Mount_Rainier',\n",
       "  'content': '**Mount Rainier**[\\\\[a\\\\]](https://en.wikipedia.org/wiki/Mount_Rainier#cite_note-9) ([/reɪˈnɪər/](https://en.wikipedia.org/wiki/Help:IPA/English \"Help:IPA/English\") [_ray-NEER_](https://en.wikipedia.org/wiki/Help:Pronunciation_respelling_key \"Help:Pronunciation respelling key\")), also known as **Tahoma**, is a large active [stratovolcano](https://en.wikipedia.org/wiki/Stratovolcano \"Stratovolcano\") in the [Cascade Range](https://en.wikipedia.org/wiki/Cascade_Range \"Cascade Range\") of the [Pacific [...] Mount Rainier is a stratovolcano in the [Cascade Volcanic Arc](https://en.wikipedia.org/wiki/Cascade_Volcanic_Arc \"Cascade Volcanic Arc\") that consists of [lava flows](https://en.wikipedia.org/wiki/Lava_flow \"Lava flow\"), [debris flows](https://en.wikipedia.org/wiki/Debris_flow \"Debris flow\"), and [pyroclastic](https://en.wikipedia.org/wiki/Pyroclastic_rock \"Pyroclastic rock\") ejecta and flows. Its early [volcanic](https://en.wikipedia.org/wiki/Volcanic \"Volcanic\") deposits are estimated at [...] Mount Rainier is the tallest mountain in Washington and the Cascade Range. This peak is located southeast of Tacoma, approximately 60 miles (97\\xa0km) south-southeast of Seattle.[\\\\[28\\\\]](https://en.wikipedia.org/wiki/Mount_Rainier#cite_note-31)[\\\\[29\\\\]](https://en.wikipedia.org/wiki/Mount_Rainier#cite_note-32) Mount Rainier has a [topographic prominence](https://en.wikipedia.org/wiki/Topographic_prominence \"Topographic prominence\") of 13,210\\xa0ft',\n",
       "  'score': 0.92125154},\n",
       " {'title': 'Mount Rainier - National Park Service',\n",
       "  'url': 'https://www.nps.gov/mora/',\n",
       "  'content': 'Ascending to 14,410 feet above sea level, Mount Rainier stands as an icon in the Washington landscape. An active volcano, Mount Rainier is the most glaciated peak in the contiguous U.S.A., spawning five major rivers. Subalpine wildflower meadows ring the icy volcano while ancient forest cloaks Mount Rainier’s lower slopes. Wildlife abounds in the park’s ecosystems. A lifetime of discovery awaits.',\n",
       "  'score': 0.8364614},\n",
       " {'title': 'Mount Rainier | U.S. Geological Survey - USGS.gov',\n",
       "  'url': 'https://www.usgs.gov/volcanoes/mount-rainier',\n",
       "  'content': 'Mount Rainier, the highest peak in the Cascade Range at 4,392m (14,410 ft), forms a dramatic backdrop to the Puget Sound region. Quick Facts.',\n",
       "  'score': 0.79293},\n",
       " {'title': 'Mount Rainier National Park',\n",
       "  'url': 'https://www.nationalparks.org/explore/parks/mount-rainier-national-park',\n",
       "  'content': 'Mount Rainier was established in 1899. At 14,410 feet, it dominates the landscape of a large part of western Washington State. The mountain is several miles',\n",
       "  'score': 0.7485182},\n",
       " {'title': 'Mount Rainier National Park',\n",
       "  'url': 'https://wnpf.org/mount-rainier-national-park/',\n",
       "  'content': 'Home to Washington’s tallest mountain, extending 14,410 feet above sea level, Mount Rainier National Park offers plenty of options for recreation. Whatever strikes your fancy — camping, hiking, fishing, biking, sight seeing, animal viewing, and more — you’ll find it here.',\n",
       "  'score': 0.7474137}]"
      ]
     },
     "execution_count": 29,
     "metadata": {},
     "output_type": "execute_result"
    }
   ],
   "source": [
    "tavily_tool.run(\"Mount Rainer\")"
   ]
  }
 ],
 "metadata": {
  "kernelspec": {
   "display_name": "venv",
   "language": "python",
   "name": "python3"
  },
  "language_info": {
   "codemirror_mode": {
    "name": "ipython",
    "version": 3
   },
   "file_extension": ".py",
   "mimetype": "text/x-python",
   "name": "python",
   "nbconvert_exporter": "python",
   "pygments_lexer": "ipython3",
   "version": "3.12.3"
  }
 },
 "nbformat": 4,
 "nbformat_minor": 2
}
